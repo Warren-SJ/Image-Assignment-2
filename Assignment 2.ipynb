{
 "cells": [
  {
   "cell_type": "markdown",
   "metadata": {},
   "source": [
    "# EN3160 Assignment 2 on Fitting and Alignment\n",
    "\n",
    "Instructed by Dr. Ranga Rodrigo\n",
    "\n",
    "Done by: Warren Jayakumar"
   ]
  },
  {
   "cell_type": "markdown",
   "metadata": {},
   "source": [
    "### Import Required Libraries"
   ]
  },
  {
   "cell_type": "code",
   "execution_count": 3,
   "metadata": {},
   "outputs": [],
   "source": [
    "import cv2 as cv\n",
    "import numpy as np\n",
    "import matplotlib.pyplot as plt"
   ]
  },
  {
   "cell_type": "markdown",
   "metadata": {},
   "source": [
    "### Detect and draw circles in the sunflower field image"
   ]
  },
  {
   "cell_type": "code",
   "execution_count": null,
   "metadata": {},
   "outputs": [],
   "source": [
    "im = cv.imread('a2images/the_berry_farms_sunflower_field.jpeg', cv.IMREAD_REDUCED_COLOR_4)\n",
    "plt.imshow(cv.cvtColor(im, cv.COLOR_BGR2RGB))\n",
    "plt.axis(False)\n",
    "plt.show()"
   ]
  },
  {
   "cell_type": "code",
   "execution_count": null,
   "metadata": {},
   "outputs": [],
   "source": [
    "gray = cv.cvtColor(im, cv.COLOR_BGR2GRAY)\n",
    "\n",
    "# Step 3: Apply Gaussian Blur and compute Laplacian\n",
    "sigma_values = range(1, 100)\n",
    "log_images = []\n",
    "\n",
    "for sigma in sigma_values:\n",
    "    blurred = cv.GaussianBlur(gray, (0, 0), sigma)\n",
    "    log = cv.Laplacian(blurred, cv.CV_64F)\n",
    "    log_images.append((log, sigma))\n",
    "\n",
    "# Step 4: Detect Scale-Space Extrema\n",
    "extrema = []\n",
    "\n",
    "for i in range(1, len(log_images) - 1):\n",
    "    prev_log, prev_sigma = log_images[i - 1]\n",
    "    curr_log, curr_sigma = log_images[i]\n",
    "    next_log, next_sigma = log_images[i + 1]\n",
    "    \n",
    "    # Find local maxima in the scale-space\n",
    "    maxima = (curr_log > prev_log) & (curr_log > next_log)\n",
    "    maxima_coords = np.argwhere(maxima)\n",
    "    \n",
    "    for coord in maxima_coords:\n",
    "        y, x = coord\n",
    "        radius = curr_sigma * np.sqrt(2)\n",
    "        extrema.append((x, y, radius, curr_sigma))\n",
    "\n",
    "# Step 5: Report Parameters\n",
    "extrema = sorted(extrema, key=lambda c: c[2], reverse=True)  # Sort by radius\n",
    "largest_circle = extrema[0] if extrema else None\n",
    "\n",
    "if largest_circle:\n",
    "    x, y, radius, sigma = largest_circle\n",
    "    print(f\"Largest Circle - Center: ({x}, {y}), Radius: {radius}, Sigma: {sigma}\")\n",
    "    \n",
    "    # Draw the largest circle on the original image\n",
    "    center = (int(x), int(y))\n",
    "    radius = int(radius)\n",
    "    cv.circle(im, center, radius, (0, 255, 0), 2)  # Draw circle in green with thickness 2\n",
    "    cv.circle(im, center, 2, (0, 0, 255), 3)  # Draw center in red with thickness 3\n",
    "    \n",
    "    # Display the image with the drawn circle\n",
    "    plt.imshow(cv.cvtColor(im, cv.COLOR_BGR2RGB))\n",
    "    plt.axis(False)\n",
    "    plt.show()\n",
    "else:\n",
    "    print(\"No circles found\")\n",
    "\n",
    "print(f\"Range of σ values used: {min(sigma_values)} to {max(sigma_values)}\")"
   ]
  },
  {
   "cell_type": "code",
   "execution_count": null,
   "metadata": {},
   "outputs": [],
   "source": []
  }
 ],
 "metadata": {
  "kernelspec": {
   "display_name": "Python 3",
   "language": "python",
   "name": "python3"
  },
  "language_info": {
   "codemirror_mode": {
    "name": "ipython",
    "version": 3
   },
   "file_extension": ".py",
   "mimetype": "text/x-python",
   "name": "python",
   "nbconvert_exporter": "python",
   "pygments_lexer": "ipython3",
   "version": "3.12.7"
  }
 },
 "nbformat": 4,
 "nbformat_minor": 2
}
